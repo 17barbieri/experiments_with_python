{
 "cells": [
  {
   "cell_type": "markdown",
   "metadata": {},
   "source": [
    "## Information Planning"
   ]
  },
  {
   "cell_type": "markdown",
   "metadata": {},
   "source": [
    "Information planning involves making decisions based on information measures. Information planning is closely related to active learning [1] and optimum experiment design [2] in which labeled data is expensive to obtain. The key idea behind active learning is that a model can learn better with fewer labeled examples if the training examples are carefully selected to maximize the information gain for a particular task. In other words, given an abundance of unlabelled data, we would like to rank the unlabelled examples according to their usefullness to training of the model. The top-K most useful training examples are labelled by expert annotators and are added to the training set."
   ]
  },
  {
   "cell_type": "markdown",
   "metadata": {},
   "source": [
    "Here, we'll consider the task of text classification using a Naive Bayes graphical model. We'll look at two information measures [3]: entropy and mutual information that will be used to rank unlabelled set of documents for information planning."
   ]
  },
  {
   "cell_type": "markdown",
   "metadata": {},
   "source": [
    "<img src=\"figures/naive_bayes_gm.png\">"
   ]
  },
  {
   "cell_type": "markdown",
   "metadata": {},
   "source": [
    "Let $x_{i,j}$ be Bernoulli random variables indicating the presence ($x_{ij} = 1$) or absence ($x_{ij}=0$) of a word $j \\in \\{1,...,D\\}$ for document $i \\in \\{1,...,n\\}$, parameterized by $\\theta_{jc}$ for a given class label $y = c \\in \\{1,...,C\\}$. In addition, let $\\pi$ be a Dirichlet distirbution representing the prior over the class labels. Thus, the total number of learnable parameters is $|\\theta| + |\\pi| = O(DC) + O(C) = O(DC)$, where $D$ is the dictionary size and $C$ is the number of classes. Due to the small number of parameters, the Naive Bayes model is immune to over-fitting.\n",
    "\n",
    "**The choice of Bernoulli Naive Bayes formulation is important because it leads itself to word-based information planning. By associating each word in the dictionary with a binary random variable, we are able to compute the influence of individual words on class label distribution.**"
   ]
  },
  {
   "cell_type": "markdown",
   "metadata": {
    "collapsed": true
   },
   "source": [
    "We can write-down the class conditional density as follows:"
   ]
  },
  {
   "cell_type": "markdown",
   "metadata": {},
   "source": [
    "\\begin{equation}\n",
    "    p(x|y=c, \\theta) = \\prod_{i=1}^{n} \\prod_{j=1}^{D} p(x_{ij}|y=c, \\theta_{jc}) = \\prod_{i=1}^{n} \\prod_{j=1}^{D} \\mathrm{Bernoulli}(\\theta_{jc})\n",
    "\\end{equation}"
   ]
  },
  {
   "cell_type": "markdown",
   "metadata": {},
   "source": [
    "We can derive the Naive Bayes inference algorithm by maximizing the log-likelihood. Consider words $x_i$ in a single document $i$:"
   ]
  },
  {
   "cell_type": "markdown",
   "metadata": {},
   "source": [
    "\\begin{equation}\n",
    "    p(x_i, y_i|\\theta) = p(y_i|\\pi)\\prod_{j=1}^{D}p(x_{ij}|y_i, \\theta) = \\prod_{c=1}^{C}\\pi_{c}^{1[y_i=c]}\\prod_{j=1}^{D}\\prod_{c=1}^{C}p(x_{ij}|\\theta_{jc})^{1[y_i=c]}\n",
    "\\end{equation}\n"
   ]
  },
  {
   "cell_type": "markdown",
   "metadata": {},
   "source": [
    "Using the Naive Bayes assumption, we can compute the log-likelihood objective:"
   ]
  },
  {
   "cell_type": "markdown",
   "metadata": {},
   "source": [
    "\\begin{equation}\n",
    "\\log p(D|\\theta) = \\log \\prod_{i=1}^{n} p(x_i,y_i|\\theta) = \\sum_{i=1}^{n}\\log p(x_i,y_i|\\theta)\n",
    "= \\sum_{c=1}^{C}N_c \\log \\pi_c + \\sum_{j=1}^{D}\\sum_{c=1}^{C}\\sum_{i:y_i = c} \\log p(x_{ij}|\\theta_{jc})\n",
    "\\end{equation}"
   ]
  },
  {
   "cell_type": "markdown",
   "metadata": {},
   "source": [
    "By setting the gradient of $\\log p(D|\\theta)$ with respect to the model parameters $\\pi_c$ and $\\theta_{jc}$ to zero, we obtain the following MLE updates: $\\hat{\\pi_c} = \\frac{N_c}{N}$ and $\\hat{\\theta_{jc}} = \\frac{N_{jc}}{N_c}$ where $N_c = \\sum_{i=1}^{n} 1[y_i = c]$. Note, that it's straight forward to add a Beta prior for the Bernoulli random variables and a Dirichlet prior for the class density to smooth the MLE counts:"
   ]
  },
  {
   "cell_type": "markdown",
   "metadata": {},
   "source": [
    "\\begin{eqnarray}\n",
    "    p(\\pi|D) &=& \\mathrm{Dir}(N_1+\\alpha_1, ..., N_c + \\alpha_c) \\\\\n",
    "    p(\\theta_{jc}|D) &=& \\mathrm{Beta}([N_c-N_{jc}] + \\beta_0, N_{jc} + \\beta_1)    \n",
    "\\end{eqnarray}"
   ]
  },
  {
   "cell_type": "markdown",
   "metadata": {},
   "source": [
    "During test time, we would like to predict the class label $y$ given the training data $D$ and the learned model parameters. Applying the Bayes rule:"
   ]
  },
  {
   "cell_type": "markdown",
   "metadata": {},
   "source": [
    "\\begin{equation}\n",
    "    p(y=c|x_{i,1},...,x_{i,D},D) \\propto p(y=c|D) p(x_{i,1},...,x_{i,D}|y=c, D) = p(y=c|D) \\prod_{j=1}^{D}p(x_{ij}|y=c,D)\n",
    "\\end{equation}"
   ]
  },
  {
   "cell_type": "markdown",
   "metadata": {},
   "source": [
    "Substituting the distributions for $p(y=c|D)$ and $p(x_{ij}|y=c,D)$ and taking the log, we get:"
   ]
  },
  {
   "cell_type": "markdown",
   "metadata": {},
   "source": [
    "\\begin{equation}\n",
    "    \\log p(y=c|x,D) \\propto \\log p(y=c|D) + \\sum_{j=1}^{D}\\bigg(1[x_{ij}=1]\\log \\theta_{jc} + 1[x_{ij}=0]\\log(1-\\theta_{jc}) \\bigg)\n",
    "\\end{equation}"
   ]
  },
  {
   "cell_type": "markdown",
   "metadata": {},
   "source": [
    "The Baeysian formulation of Bernoulli Naive Bayes is implemented in scikit-learn [5] using the steps outlined above. While it's really good practice to derive and implement ML algorithms from scratch (and in faster languages such as C++), we'll use the scikit-learn implementation and focus on information planning. Let's start by importing the required libraries."
   ]
  },
  {
   "cell_type": "code",
   "execution_count": 2,
   "metadata": {
    "collapsed": true
   },
   "outputs": [],
   "source": [
    "%matplotlib inline\n",
    "import numpy as np\n",
    "import pandas as pd\n",
    "\n",
    "import seaborn as sns\n",
    "import matplotlib.pyplot as plt\n",
    "\n",
    "from time import time\n",
    "from nltk.corpus import stopwords\n",
    "from nltk.tokenize import RegexpTokenizer\n",
    "\n",
    "from scipy.misc import logsumexp\n",
    "from sklearn.metrics import accuracy_score\n",
    "from sklearn.naive_bayes import BernoulliNB\n",
    "from sklearn.datasets import fetch_20newsgroups\n",
    "from sklearn.model_selection import train_test_split\n",
    "from sklearn.feature_extraction.text import CountVectorizer\n",
    "\n",
    "sns.set_style(\"whitegrid\")\n",
    "np.random.seed(0)\n",
    "\n",
    "tokenizer = RegexpTokenizer(r'\\w+')\n",
    "stop = set(stopwords.words('english'))"
   ]
  },
  {
   "cell_type": "markdown",
   "metadata": {},
   "source": [
    "We will train our model on a subset of the 20newsgroups dataset. In particular, we'll restrict ourselves to $4$ classes: space, graphics, autos, and hockey."
   ]
  },
  {
   "cell_type": "code",
   "execution_count": 3,
   "metadata": {},
   "outputs": [
    {
     "name": "stdout",
     "output_type": "stream",
     "text": [
      "loading 20 newsgroups dataset...\n",
      "elapsed time: 5.9363 sec\n",
      "number of training docs:  1185\n",
      "number of test docs:  1186\n"
     ]
    }
   ],
   "source": [
    "#load data\n",
    "print \"loading 20 newsgroups dataset...\"\n",
    "tic = time()\n",
    "classes = ['sci.space', 'comp.graphics', 'rec.autos', 'rec.sport.hockey']\n",
    "dataset = fetch_20newsgroups(shuffle=True, random_state=0, remove=('headers','footers','quotes'), categories=classes)\n",
    "X_train, X_test, y_train, y_test = train_test_split(dataset.data, dataset.target, test_size=0.5, random_state=0)\n",
    "toc = time()\n",
    "print \"elapsed time: %.4f sec\" %(toc - tic)    \n",
    "print \"number of training docs: \", len(X_train)\n",
    "print \"number of test docs: \", len(X_test)"
   ]
  },
  {
   "cell_type": "markdown",
   "metadata": {},
   "source": [
    "We'll use a count vectorizer to produce a vector of word counts for each document while filtering stop and low-frequency words."
   ]
  },
  {
   "cell_type": "code",
   "execution_count": 5,
   "metadata": {},
   "outputs": [
    {
     "name": "stdout",
     "output_type": "stream",
     "text": [
      "elapsed time: 0.28 sec\n",
      "vocab size:  1000\n"
     ]
    }
   ],
   "source": [
    "tic = time()\n",
    "cnt_vec = CountVectorizer(tokenizer=tokenizer.tokenize, analyzer='word', ngram_range=(1,1), max_df=0.8, min_df=2, max_features=1000, stop_words='english')\n",
    "cnt_vec.fit(X_train)\n",
    "toc = time()\n",
    "print \"elapsed time: %.2f sec\" %(toc - tic)\n",
    "vocab = cnt_vec.vocabulary_\n",
    "idx2word = {val: key for (key, val) in vocab.items()}\n",
    "print \"vocab size: \", len(vocab)\n",
    "\n",
    "X_train_vec = cnt_vec.transform(X_train) #size [D, V]\n",
    "X_test_vec = cnt_vec.transform(X_test)"
   ]
  },
  {
   "cell_type": "markdown",
   "metadata": {},
   "source": [
    "Let's execute the Naive Bayes inference described earlier and use the trained model to predict class labels on test data."
   ]
  },
  {
   "cell_type": "code",
   "execution_count": 7,
   "metadata": {},
   "outputs": [
    {
     "name": "stdout",
     "output_type": "stream",
     "text": [
      "naive bayes model MAP inference...\n",
      "test set accuracy:  0.701517706577\n"
     ]
    }
   ],
   "source": [
    "print \"naive bayes model MAP inference...\"\n",
    "nb_clf = BernoulliNB(alpha=1.0, binarize=0.0, fit_prior=True)\n",
    "nb_clf.fit(X_train_vec, y_train)\n",
    "\n",
    "y_pred = nb_clf.predict(X_test_vec)\n",
    "nb_clf_acc = accuracy_score(y_test, y_pred)\n",
    "print \"test set accuracy: \", nb_clf_acc\n"
   ]
  },
  {
   "cell_type": "markdown",
   "metadata": {},
   "source": [
    "### Entropy Planning"
   ]
  },
  {
   "cell_type": "markdown",
   "metadata": {},
   "source": [
    "Entropy measures the amount of uncertainty in a random variable. In entropy based planning, we want to rank test-documents according to the entropy of their class label. The idea is that by annotating documents that have highest uncertainty about their class label will be able to better train our model with fewer annotated examples. In the case of the class distribution, the entropy can be computed in closed form: $H(y) = -\\sum_{c=1}^{C} p(y=c) \\log p(y=c)$"
   ]
  },
  {
   "cell_type": "code",
   "execution_count": 10,
   "metadata": {
    "collapsed": true
   },
   "outputs": [],
   "source": [
    "#rank test documents according to entropy of their class label\n",
    "top_K = 20\n",
    "X_test_class_logp = nb_clf.predict_log_proba(X_test_vec)\n",
    "X_test_class_entropy = -np.sum(np.exp(X_test_class_logp) * X_test_class_logp, axis=1)\n",
    "planning_entropy_idx = np.argsort(X_test_class_entropy)[-top_K:]"
   ]
  },
  {
   "cell_type": "markdown",
   "metadata": {},
   "source": [
    "### Mutual Information Planning"
   ]
  },
  {
   "cell_type": "markdown",
   "metadata": {},
   "source": [
    "In the case of mutual information, we need to choose the random variables we want to use for planning. We want to be able to rank documents given observed test data and learned model parameters. In this case, we consider estimating $I(x_j;y)$, the mutual information between a Bernoulli word indicator $x_j$ and the document label $y$, i.e. we are interested in measuring the information gain about the class label given observed words $x_j$ in a test document. Since both variables are discrete, the mutual information can be estimated in closed form:"
   ]
  },
  {
   "cell_type": "markdown",
   "metadata": {},
   "source": [
    "\\begin{equation}\n",
    "    I(x_j; y) = \\mathrm{KL}\\bigg(p(x_j,y)~||~p(x_j)p(y)\\bigg) = \\sum_{x \\in \\{0,1\\}} \\sum_{y\\in C} p(x_j,y)\\log \\frac{p(x_j,y)}{p(x_j)p(y)} = \\sum_{x \\in \\{0,1\\}} \\sum_{y \\in C} p(x_j|y)p(y)\\log \\frac{p(x_j|y)}{p(x_j)}\n",
    "\\end{equation}"
   ]
  },
  {
   "cell_type": "markdown",
   "metadata": {},
   "source": [
    "we can compute $p(x_j)$ using the law of total probability: $p(x_j) = \\sum_{c \\in C}p(x_j=1|y=c)p(y=c)$, and we already know the class conditional $p(x_j|y) = \\mathrm{Bernoulli}(\\theta_{jc})$ and the marginal $p(y) = \\mathrm{Dirichlet}(\\pi)$. We are intersted in evaluating mutual information for the *entire* test document. Given our bag of words model, we can compute $I(x_{doc};y)$ by summing over MI terms for every word in the document as follows:"
   ]
  },
  {
   "cell_type": "markdown",
   "metadata": {},
   "source": [
    "\\begin{equation}\n",
    "    I(x_{doc};y) = I(x_{1},...,x_{D}; y) = \\sum_{j \\in doc} I(x_j; y)\n",
    "\\end{equation}"
   ]
  },
  {
   "cell_type": "markdown",
   "metadata": {},
   "source": [
    "where the above expression holds because $\\{x_1,...,x_D\\}$ are iid. Let's compute MI for all our test documents."
   ]
  },
  {
   "cell_type": "code",
   "execution_count": 12,
   "metadata": {
    "collapsed": true
   },
   "outputs": [],
   "source": [
    "#rank test documents according to mutual information between document words and class label\n",
    "log_py = nb_clf.class_log_prior_     #log py(c)\n",
    "log_pxy = nb_clf.feature_log_prob_   #log pxy(c,j) = log p(x_ij = 1 | y = c)\n",
    "\n",
    "[C,D] = log_pxy.shape\n",
    "log_py = np.tile(log_py.reshape(-1,1), log_pxy.shape[1])\n",
    "#log px(j) = log [\\sum_c p(x_ij = 1 | y = c) x p(y = c)]\n",
    "#          = log [\\sum_c exp{log_pxy(c,j) + log_py(c)}]\n",
    "log_px = logsumexp(log_pxy + log_py, axis=0)\n",
    "\n",
    "X_test_word_MI = np.zeros(D)\n",
    "for class_idx in range(C):\n",
    "    X_test_word_MI = X_test_word_MI + \\\n",
    "    np.exp(log_py[class_idx]) * np.exp(log_pxy[class_idx,:]) * np.log(np.exp(log_pxy[class_idx,:])/np.exp(log_px)) + \\\n",
    "    np.exp(log_py[class_idx]) * (1-np.exp(log_pxy[class_idx,:])) * np.log((1-np.exp(log_pxy[class_idx,:]))/(1-np.exp(log_px)))    \n",
    "#end for\n",
    "\n",
    "#compute document MI by summing over word MI(x_j; y) present in the document\n",
    "X_test_docs_MI = np.zeros(X_test_vec.shape[0])                               \n",
    "for doc_idx in range(X_test_vec.shape[0]):    \n",
    "    word_mask = np.minimum(X_test_vec[doc_idx,:].todense(), 1) #binarize counts    \n",
    "    X_test_docs_MI[doc_idx] = np.sum(X_test_word_MI * word_mask.reshape(-1,1))\n",
    "#end for\n",
    "planning_MI_idx = np.argsort(X_test_docs_MI)[-top_K:]"
   ]
  },
  {
   "cell_type": "markdown",
   "metadata": {},
   "source": [
    "Let's display the top 10 (highest probability) words associated with each class:"
   ]
  },
  {
   "cell_type": "code",
   "execution_count": 22,
   "metadata": {},
   "outputs": [
    {
     "name": "stdout",
     "output_type": "stream",
     "text": [
      "\n",
      "top-10 words for class:  0\n",
      "2 like m does 1 thanks graphics know s t\n",
      "\n",
      "top-10 words for class:  1\n",
      "d think know cars don just like car s t\n",
      "\n",
      "top-10 words for class:  2\n",
      "1 time season year play hockey game team t s\n",
      "\n",
      "top-10 words for class:  3\n",
      "time earth nasa know don just like space t s\n"
     ]
    }
   ],
   "source": [
    "#display top words\n",
    "for class_idx in range(C):\n",
    "    top_word_idx = np.argsort(log_pxy[class_idx,:])[-10:]\n",
    "    print \"\\ntop-10 words for class: \", class_idx\n",
    "    top_word_list = []\n",
    "    for it in top_word_idx:\n",
    "        top_word_list.append(idx2word[it])\n",
    "    #end for\n",
    "    print \" \".join(top_word_list)\n",
    "#end for"
   ]
  },
  {
   "cell_type": "markdown",
   "metadata": {},
   "source": [
    "Let's look at the top 20 (highest MI) informative words:"
   ]
  },
  {
   "cell_type": "code",
   "execution_count": 14,
   "metadata": {},
   "outputs": [
    {
     "name": "stdout",
     "output_type": "stream",
     "text": [
      "\n",
      "top-20 MI words:\n",
      "teams program league moon playoffs orbit players earth games nasa nhl play cars season graphics hockey team game car space\n"
     ]
    }
   ],
   "source": [
    "print \"\\ntop-20 MI words:\"\n",
    "top_word_list = []\n",
    "top_word_idx = np.argsort(X_test_word_MI)[-20:]\n",
    "for it in top_word_idx:\n",
    "    top_word_list.append(idx2word[it])\n",
    "#end for\n",
    "print \" \".join(top_word_list)"
   ]
  },
  {
   "cell_type": "markdown",
   "metadata": {},
   "source": [
    "Not bad! considering the ground truth classes are:"
   ]
  },
  {
   "cell_type": "code",
   "execution_count": 16,
   "metadata": {},
   "outputs": [
    {
     "name": "stdout",
     "output_type": "stream",
     "text": [
      "\n",
      "ground truth labels:\n",
      "sci.space comp.graphics rec.autos rec.sport.hockey\n"
     ]
    }
   ],
   "source": [
    "print \"\\nground truth labels:\"\n",
    "print \" \".join(classes)"
   ]
  },
  {
   "cell_type": "markdown",
   "metadata": {},
   "source": [
    "We can see that highest MI words reflect the ground truth labels really well. Let's look at the learned word probabilities for every class:"
   ]
  },
  {
   "cell_type": "code",
   "execution_count": 17,
   "metadata": {},
   "outputs": [
    {
     "data": {
      "image/png": "[encoded data removed]",
      "text/plain": [
       "<matplotlib.figure.Figure at 0x7fddb1a24890>"
      ]
     },
     "metadata": {},
     "output_type": "display_data"
    }
   ],
   "source": [
    "#generate plots\n",
    "f, ((ax1, ax2), (ax3, ax4)) = plt.subplots(2,2, sharex=True, sharey=True)    \n",
    "ax1.plot(np.arange(D), np.exp(log_pxy[0,:]), color='b')\n",
    "ax1.set_title('p(word $x_j = 1$ | class label $y = 0$)')\n",
    "ax2.plot(np.arange(D), np.exp(log_pxy[1,:]), color='b')\n",
    "ax2.set_title('p(word $x_j = 1$ | class label $y = 1$)')    \n",
    "ax3.plot(np.arange(D), np.exp(log_pxy[2,:]), color='b')\n",
    "ax3.set_title('p(word $x_j = 1$ | class label $y = 2$)')    \n",
    "ax4.plot(np.arange(D), np.exp(log_pxy[3,:]), color='b')\n",
    "ax4.set_title('p(word $x_j = 1$ | class label $y = 3$)')    \n",
    "f.savefig('./figures/naive_bayes_theta.png')\n"
   ]
  },
  {
   "cell_type": "markdown",
   "metadata": {},
   "source": [
    "We can also visualize the class label distribution:"
   ]
  },
  {
   "cell_type": "code",
   "execution_count": 18,
   "metadata": {},
   "outputs": [
    {
     "data": {
      "image/png": "[encoded data removed]",
      "text/plain": [
       "<matplotlib.figure.Figure at 0x7fddb1b3e850>"
      ]
     },
     "metadata": {},
     "output_type": "display_data"
    }
   ],
   "source": [
    "plt.figure()\n",
    "sns.barplot(x=np.arange(C), y=np.exp(nb_clf.class_log_prior_), palette='Set1')\n",
    "plt.title('class label posterior')\n",
    "plt.xlabel('class number')\n",
    "plt.savefig('./figures/naive_bayes_pi.png')"
   ]
  },
  {
   "cell_type": "markdown",
   "metadata": {},
   "source": [
    "Finally, let's visualize the test document ranking based on entropy and mutual information:"
   ]
  },
  {
   "cell_type": "code",
   "execution_count": 20,
   "metadata": {},
   "outputs": [
    {
     "data": {
      "image/png": "[encoded data removed]",
      "text/plain": [
       "<matplotlib.figure.Figure at 0x7fddb0f47e50>"
      ]
     },
     "metadata": {},
     "output_type": "display_data"
    }
   ],
   "source": [
    "plt.figure()\n",
    "sns.boxplot(x=['entropy', 'mutual information'], y=[X_test_class_entropy, X_test_docs_MI], palette=\"Set3\")\n",
    "plt.title('information based planning')\n",
    "plt.savefig('./figures/naive_bayes_boxplot.png')"
   ]
  },
  {
   "cell_type": "code",
   "execution_count": 21,
   "metadata": {},
   "outputs": [
    {
     "data": {
      "image/png": "[encoded data removed]",
      "text/plain": [
       "<matplotlib.figure.Figure at 0x7fddb0f0d6d0>"
      ]
     },
     "metadata": {},
     "output_type": "display_data"
    }
   ],
   "source": [
    "plt.figure()\n",
    "sns.distplot(X_test_class_entropy, hist=True, kde=True, norm_hist=True, color='b', label='entropy')\n",
    "sns.distplot(X_test_docs_MI, hist=True, kde=True, norm_hist=True, color='r', label='mutual information')\n",
    "plt.title('information based planning')\n",
    "plt.legend()\n",
    "plt.xlim([-0.1,1])\n",
    "plt.savefig('./figures/naive_bayes_hist.png')\n"
   ]
  },
  {
   "cell_type": "markdown",
   "metadata": {},
   "source": [
    "In particular, we are interested in outliers, i.e. documents that have highest entropy and mutual information. From the box plot above, we can see a larger range of highest MI test documents compared to highest entropy documents, which suggests that MI could be better at differentiating which documents are most suitable for information planning. In order to verify this hypothesis and the utility of information measures, we want to compare information based planning against a random baseline and implement this notebook as part of an active learning pipeline."
   ]
  },
  {
   "cell_type": "markdown",
   "metadata": {},
   "source": [
    "### References"
   ]
  },
  {
   "cell_type": "markdown",
   "metadata": {},
   "source": [
    "[1] B. Settles, \"Active Learning Literature Survey\", Technical Report, 2010  \n",
    "[2] K. Chaloner and I. Verdinelli, \"Bayesian Experimental Design: A Review\", Statistical Science, 1995  \n",
    "[3] T. Cover and J. Thomas, \"Elements of Information Theory\", Wiley, 2006  \n",
    "[4] K. Murphy, \"Machine Learning: A Probabilistic Perspective\", MIT Press, 2012  \n",
    "[5] F. Pedregosa et al. \"Scikit-learn: Machine Learning in Python: http://scikit-learn.org/stable/\", JMLR, 2011   "
   ]
  }
 ],
 "metadata": {
  "kernelspec": {
   "display_name": "Python 2",
   "language": "python",
   "name": "python2"
  },
  "language_info": {
   "codemirror_mode": {
    "name": "ipython",
    "version": 2
   },
   "file_extension": ".py",
   "mimetype": "text/x-python",
   "name": "python",
   "nbconvert_exporter": "python",
   "pygments_lexer": "ipython2",
   "version": "2.7.6"
  }
 },
 "nbformat": 4,
 "nbformat_minor": 2
}
