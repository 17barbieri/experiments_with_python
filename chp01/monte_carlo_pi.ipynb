{
 "metadata": {
  "name": "monte_carlo_pi.ipynb"
 },
 "nbformat": 3,
 "nbformat_minor": 0,
 "worksheets": [
  {
   "cells": [
    {
     "cell_type": "heading",
     "level": 2,
     "metadata": {},
     "source": [
      "Monte Carlo Integration"
     ]
    },
    {
     "cell_type": "markdown",
     "metadata": {},
     "source": [
      "Suppose we want to evaluate an integral $I = \\int_{a}^{b} f(x) dx$ we can approximate the integral as follows"
     ]
    },
    {
     "cell_type": "markdown",
     "metadata": {},
     "source": [
      "$I = \\int_{a}^{b} f(x) dx = \\int_{a}^{b} w(x) p(x) dx$"
     ]
    },
    {
     "cell_type": "markdown",
     "metadata": {},
     "source": [
      "where $w(x) = f(x)(b-a)$ and $p(x) = 1/(b-a)$ is the pdf of a uniform random variable over $(a,b)$."
     ]
    },
    {
     "cell_type": "code",
     "collapsed": false,
     "input": [],
     "language": "python",
     "metadata": {},
     "outputs": []
    }
   ],
   "metadata": {}
  }
 ]
}